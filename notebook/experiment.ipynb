{
 "cells": [
  {
   "cell_type": "code",
   "execution_count": 1,
   "metadata": {},
   "outputs": [],
   "source": [
    "import pandas as pd \n",
    "import numpy as np \n",
    "import os"
   ]
  },
  {
   "cell_type": "code",
   "execution_count": 2,
   "metadata": {},
   "outputs": [
    {
     "data": {
      "text/plain": [
       "'/config/workspace/notebook'"
      ]
     },
     "execution_count": 2,
     "metadata": {},
     "output_type": "execute_result"
    }
   ],
   "source": [
    "%pwd"
   ]
  },
  {
   "cell_type": "code",
   "execution_count": 3,
   "metadata": {},
   "outputs": [],
   "source": [
    "os.chdir(\"../artifacts/\")"
   ]
  },
  {
   "cell_type": "code",
   "execution_count": 4,
   "metadata": {},
   "outputs": [
    {
     "data": {
      "text/plain": [
       "'/config/workspace/artifacts'"
      ]
     },
     "execution_count": 4,
     "metadata": {},
     "output_type": "execute_result"
    }
   ],
   "source": [
    "%pwd"
   ]
  },
  {
   "cell_type": "code",
   "execution_count": 5,
   "metadata": {},
   "outputs": [
    {
     "data": {
      "text/html": [
       "<div>\n",
       "<style scoped>\n",
       "    .dataframe tbody tr th:only-of-type {\n",
       "        vertical-align: middle;\n",
       "    }\n",
       "\n",
       "    .dataframe tbody tr th {\n",
       "        vertical-align: top;\n",
       "    }\n",
       "\n",
       "    .dataframe thead th {\n",
       "        text-align: right;\n",
       "    }\n",
       "</style>\n",
       "<table border=\"1\" class=\"dataframe\">\n",
       "  <thead>\n",
       "    <tr style=\"text-align: right;\">\n",
       "      <th></th>\n",
       "      <th>policy_state</th>\n",
       "      <th>policy_deductable</th>\n",
       "      <th>policy_annual_premium</th>\n",
       "      <th>umbrella_limit</th>\n",
       "      <th>insured_zip</th>\n",
       "      <th>insured_sex</th>\n",
       "      <th>insured_education_level</th>\n",
       "      <th>insured_relationship</th>\n",
       "      <th>capital-gains</th>\n",
       "      <th>capital-loss</th>\n",
       "      <th>...</th>\n",
       "      <th>property_damage</th>\n",
       "      <th>bodily_injuries</th>\n",
       "      <th>witnesses</th>\n",
       "      <th>police_report_available</th>\n",
       "      <th>total_claim_amount</th>\n",
       "      <th>injury_claim</th>\n",
       "      <th>vehicle_claim</th>\n",
       "      <th>auto_make</th>\n",
       "      <th>auto_year</th>\n",
       "      <th>fraud_reported</th>\n",
       "    </tr>\n",
       "  </thead>\n",
       "  <tbody>\n",
       "    <tr>\n",
       "      <th>0</th>\n",
       "      <td>IL</td>\n",
       "      <td>2000</td>\n",
       "      <td>1104.50</td>\n",
       "      <td>0</td>\n",
       "      <td>432211</td>\n",
       "      <td>FEMALE</td>\n",
       "      <td>PhD</td>\n",
       "      <td>unmarried</td>\n",
       "      <td>0</td>\n",
       "      <td>0</td>\n",
       "      <td>...</td>\n",
       "      <td>NO</td>\n",
       "      <td>2</td>\n",
       "      <td>2</td>\n",
       "      <td>NO</td>\n",
       "      <td>91650</td>\n",
       "      <td>14100</td>\n",
       "      <td>63450</td>\n",
       "      <td>Accura</td>\n",
       "      <td>2011</td>\n",
       "      <td>0</td>\n",
       "    </tr>\n",
       "    <tr>\n",
       "      <th>1</th>\n",
       "      <td>OH</td>\n",
       "      <td>1000</td>\n",
       "      <td>1099.95</td>\n",
       "      <td>0</td>\n",
       "      <td>473109</td>\n",
       "      <td>FEMALE</td>\n",
       "      <td>College</td>\n",
       "      <td>wife</td>\n",
       "      <td>0</td>\n",
       "      <td>-71900</td>\n",
       "      <td>...</td>\n",
       "      <td>NO</td>\n",
       "      <td>1</td>\n",
       "      <td>0</td>\n",
       "      <td>YES</td>\n",
       "      <td>52400</td>\n",
       "      <td>6550</td>\n",
       "      <td>39300</td>\n",
       "      <td>Accura</td>\n",
       "      <td>2005</td>\n",
       "      <td>1</td>\n",
       "    </tr>\n",
       "    <tr>\n",
       "      <th>2</th>\n",
       "      <td>OH</td>\n",
       "      <td>2000</td>\n",
       "      <td>1221.41</td>\n",
       "      <td>0</td>\n",
       "      <td>466289</td>\n",
       "      <td>FEMALE</td>\n",
       "      <td>Masters</td>\n",
       "      <td>wife</td>\n",
       "      <td>46700</td>\n",
       "      <td>-72500</td>\n",
       "      <td>...</td>\n",
       "      <td>NO</td>\n",
       "      <td>2</td>\n",
       "      <td>1</td>\n",
       "      <td>NO</td>\n",
       "      <td>2700</td>\n",
       "      <td>300</td>\n",
       "      <td>2100</td>\n",
       "      <td>Honda</td>\n",
       "      <td>2006</td>\n",
       "      <td>0</td>\n",
       "    </tr>\n",
       "    <tr>\n",
       "      <th>3</th>\n",
       "      <td>IL</td>\n",
       "      <td>500</td>\n",
       "      <td>1500.04</td>\n",
       "      <td>6000000</td>\n",
       "      <td>613826</td>\n",
       "      <td>MALE</td>\n",
       "      <td>PhD</td>\n",
       "      <td>own-child</td>\n",
       "      <td>0</td>\n",
       "      <td>-36500</td>\n",
       "      <td>...</td>\n",
       "      <td>NO</td>\n",
       "      <td>0</td>\n",
       "      <td>2</td>\n",
       "      <td>YES</td>\n",
       "      <td>5160</td>\n",
       "      <td>860</td>\n",
       "      <td>3440</td>\n",
       "      <td>Accura</td>\n",
       "      <td>2004</td>\n",
       "      <td>0</td>\n",
       "    </tr>\n",
       "    <tr>\n",
       "      <th>4</th>\n",
       "      <td>IN</td>\n",
       "      <td>1000</td>\n",
       "      <td>974.84</td>\n",
       "      <td>0</td>\n",
       "      <td>468984</td>\n",
       "      <td>FEMALE</td>\n",
       "      <td>JD</td>\n",
       "      <td>other-relative</td>\n",
       "      <td>52100</td>\n",
       "      <td>0</td>\n",
       "      <td>...</td>\n",
       "      <td>NO</td>\n",
       "      <td>0</td>\n",
       "      <td>1</td>\n",
       "      <td>YES</td>\n",
       "      <td>85320</td>\n",
       "      <td>21330</td>\n",
       "      <td>56880</td>\n",
       "      <td>Nissan</td>\n",
       "      <td>2006</td>\n",
       "      <td>0</td>\n",
       "    </tr>\n",
       "  </tbody>\n",
       "</table>\n",
       "<p>5 rows × 28 columns</p>\n",
       "</div>"
      ],
      "text/plain": [
       "  policy_state  policy_deductable  policy_annual_premium  umbrella_limit  \\\n",
       "0           IL               2000                1104.50               0   \n",
       "1           OH               1000                1099.95               0   \n",
       "2           OH               2000                1221.41               0   \n",
       "3           IL                500                1500.04         6000000   \n",
       "4           IN               1000                 974.84               0   \n",
       "\n",
       "   insured_zip insured_sex insured_education_level insured_relationship  \\\n",
       "0       432211      FEMALE                     PhD            unmarried   \n",
       "1       473109      FEMALE                 College                 wife   \n",
       "2       466289      FEMALE                 Masters                 wife   \n",
       "3       613826        MALE                     PhD            own-child   \n",
       "4       468984      FEMALE                      JD       other-relative   \n",
       "\n",
       "   capital-gains  capital-loss  ... property_damage bodily_injuries witnesses  \\\n",
       "0              0             0  ...              NO               2         2   \n",
       "1              0        -71900  ...              NO               1         0   \n",
       "2          46700        -72500  ...              NO               2         1   \n",
       "3              0        -36500  ...              NO               0         2   \n",
       "4          52100             0  ...              NO               0         1   \n",
       "\n",
       "  police_report_available total_claim_amount injury_claim  vehicle_claim  \\\n",
       "0                      NO              91650        14100          63450   \n",
       "1                     YES              52400         6550          39300   \n",
       "2                      NO               2700          300           2100   \n",
       "3                     YES               5160          860           3440   \n",
       "4                     YES              85320        21330          56880   \n",
       "\n",
       "   auto_make auto_year  fraud_reported  \n",
       "0     Accura      2011               0  \n",
       "1     Accura      2005               1  \n",
       "2      Honda      2006               0  \n",
       "3     Accura      2004               0  \n",
       "4     Nissan      2006               0  \n",
       "\n",
       "[5 rows x 28 columns]"
      ]
     },
     "execution_count": 5,
     "metadata": {},
     "output_type": "execute_result"
    }
   ],
   "source": [
    "df = pd.read_csv(\"train_cleaned.csv\")\n",
    "\n",
    "df.head()"
   ]
  },
  {
   "cell_type": "code",
   "execution_count": 6,
   "metadata": {},
   "outputs": [
    {
     "name": "stdout",
     "output_type": "stream",
     "text": [
      "<class 'pandas.core.frame.DataFrame'>\n",
      "RangeIndex: 800 entries, 0 to 799\n",
      "Data columns (total 28 columns):\n",
      " #   Column                       Non-Null Count  Dtype  \n",
      "---  ------                       --------------  -----  \n",
      " 0   policy_state                 800 non-null    object \n",
      " 1   policy_deductable            800 non-null    int64  \n",
      " 2   policy_annual_premium        800 non-null    float64\n",
      " 3   umbrella_limit               800 non-null    int64  \n",
      " 4   insured_zip                  800 non-null    int64  \n",
      " 5   insured_sex                  800 non-null    object \n",
      " 6   insured_education_level      800 non-null    object \n",
      " 7   insured_relationship         800 non-null    object \n",
      " 8   capital-gains                800 non-null    int64  \n",
      " 9   capital-loss                 800 non-null    int64  \n",
      " 10  incident_type                800 non-null    object \n",
      " 11  collision_type               800 non-null    object \n",
      " 12  incident_severity            800 non-null    object \n",
      " 13  authorities_contacted        800 non-null    object \n",
      " 14  incident_state               800 non-null    object \n",
      " 15  incident_city                800 non-null    object \n",
      " 16  incident_hour_of_the_day     800 non-null    int64  \n",
      " 17  number_of_vehicles_involved  800 non-null    int64  \n",
      " 18  property_damage              800 non-null    object \n",
      " 19  bodily_injuries              800 non-null    int64  \n",
      " 20  witnesses                    800 non-null    int64  \n",
      " 21  police_report_available      800 non-null    object \n",
      " 22  total_claim_amount           800 non-null    int64  \n",
      " 23  injury_claim                 800 non-null    int64  \n",
      " 24  vehicle_claim                800 non-null    int64  \n",
      " 25  auto_make                    800 non-null    object \n",
      " 26  auto_year                    800 non-null    int64  \n",
      " 27  fraud_reported               800 non-null    int64  \n",
      "dtypes: float64(1), int64(14), object(13)\n",
      "memory usage: 175.1+ KB\n"
     ]
    }
   ],
   "source": [
    "df.info()"
   ]
  },
  {
   "cell_type": "code",
   "execution_count": 7,
   "metadata": {},
   "outputs": [
    {
     "data": {
      "text/plain": [
       "policy_state                   0\n",
       "policy_deductable              0\n",
       "policy_annual_premium          0\n",
       "umbrella_limit                 0\n",
       "insured_zip                    0\n",
       "insured_sex                    0\n",
       "insured_education_level        0\n",
       "insured_relationship           0\n",
       "capital-gains                  0\n",
       "capital-loss                   0\n",
       "incident_type                  0\n",
       "collision_type                 0\n",
       "incident_severity              0\n",
       "authorities_contacted          0\n",
       "incident_state                 0\n",
       "incident_city                  0\n",
       "incident_hour_of_the_day       0\n",
       "number_of_vehicles_involved    0\n",
       "property_damage                0\n",
       "bodily_injuries                0\n",
       "witnesses                      0\n",
       "police_report_available        0\n",
       "total_claim_amount             0\n",
       "injury_claim                   0\n",
       "vehicle_claim                  0\n",
       "auto_make                      0\n",
       "auto_year                      0\n",
       "fraud_reported                 0\n",
       "dtype: int64"
      ]
     },
     "execution_count": 7,
     "metadata": {},
     "output_type": "execute_result"
    }
   ],
   "source": [
    "df.isnull().sum()"
   ]
  },
  {
   "cell_type": "code",
   "execution_count": 9,
   "metadata": {},
   "outputs": [],
   "source": [
    "X = df.drop(columns=[\"fraud_reported\"], axis=1)\n",
    "y = df[\"fraud_reported\"]"
   ]
  },
  {
   "cell_type": "code",
   "execution_count": 10,
   "metadata": {},
   "outputs": [
    {
     "data": {
      "text/plain": [
       "Index(['policy_deductable', 'policy_annual_premium', 'umbrella_limit',\n",
       "       'insured_zip', 'capital-gains', 'capital-loss',\n",
       "       'incident_hour_of_the_day', 'number_of_vehicles_involved',\n",
       "       'bodily_injuries', 'witnesses', 'total_claim_amount', 'injury_claim',\n",
       "       'vehicle_claim', 'auto_year'],\n",
       "      dtype='object')"
      ]
     },
     "execution_count": 10,
     "metadata": {},
     "output_type": "execute_result"
    }
   ],
   "source": [
    "numerical_columns = X.select_dtypes(exclude=\"object\").columns \n",
    "\n",
    "numerical_columns"
   ]
  },
  {
   "cell_type": "code",
   "execution_count": 11,
   "metadata": {},
   "outputs": [
    {
     "data": {
      "text/plain": [
       "Index(['policy_state', 'insured_sex', 'insured_education_level',\n",
       "       'insured_relationship', 'incident_type', 'collision_type',\n",
       "       'incident_severity', 'authorities_contacted', 'incident_state',\n",
       "       'incident_city', 'property_damage', 'police_report_available',\n",
       "       'auto_make'],\n",
       "      dtype='object')"
      ]
     },
     "execution_count": 11,
     "metadata": {},
     "output_type": "execute_result"
    }
   ],
   "source": [
    "categorical_columns = X.select_dtypes(include=\"object\").columns \n",
    "\n",
    "categorical_columns"
   ]
  },
  {
   "cell_type": "code",
   "execution_count": null,
   "metadata": {},
   "outputs": [],
   "source": []
  }
 ],
 "metadata": {
  "kernelspec": {
   "display_name": "Python 3.8.0 (conda)",
   "language": "python",
   "name": "python3"
  },
  "language_info": {
   "codemirror_mode": {
    "name": "ipython",
    "version": 3
   },
   "file_extension": ".py",
   "mimetype": "text/x-python",
   "name": "python",
   "nbconvert_exporter": "python",
   "pygments_lexer": "ipython3",
   "version": "3.8.0"
  },
  "orig_nbformat": 4,
  "vscode": {
   "interpreter": {
    "hash": "1762875d695c3b8ce31fc2c385c40c45ae7c7b01a87f50658d419512c57bca88"
   }
  }
 },
 "nbformat": 4,
 "nbformat_minor": 2
}
